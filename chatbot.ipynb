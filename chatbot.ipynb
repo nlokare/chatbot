{
 "cells": [
  {
   "cell_type": "markdown",
   "metadata": {},
   "source": [
    "# Chatbot Prototype"
   ]
  },
  {
   "cell_type": "code",
   "execution_count": 81,
   "metadata": {
    "collapsed": false
   },
   "outputs": [],
   "source": [
    "import json"
   ]
  },
  {
   "cell_type": "code",
   "execution_count": 80,
   "metadata": {
    "collapsed": false
   },
   "outputs": [
    {
     "name": "stdout",
     "output_type": "stream",
     "text": [
      "[nltk_data] Downloading package punkt to\n",
      "[nltk_data]     /Users/machinelearning/nltk_data...\n",
      "[nltk_data]   Package punkt is already up-to-date!\n"
     ]
    }
   ],
   "source": [
    "# Natural Language Processing modules\n",
    "import nltk\n",
    "from nltk.stem.lancaster import LancasterStemmer\n",
    "nltk.download('punkt')\n",
    "stemmer = LancasterStemmer()"
   ]
  },
  {
   "cell_type": "code",
   "execution_count": 75,
   "metadata": {
    "collapsed": true
   },
   "outputs": [],
   "source": [
    "# Tensorflow Depedencies\n",
    "import numpy as np\n",
    "import tflearn\n",
    "import tensorflow as tf\n",
    "import random"
   ]
  },
  {
   "cell_type": "markdown",
   "metadata": {},
   "source": [
    "## ModelBuilder creates features and trains the neural network"
   ]
  },
  {
   "cell_type": "code",
   "execution_count": 85,
   "metadata": {
    "collapsed": false
   },
   "outputs": [],
   "source": [
    "class ModelBuilder(object):\n",
    "    def __init__(self, seed_data_path):\n",
    "        with open(seed_data_path) as json_data:\n",
    "            self.intents = json.load(json_data)\n",
    "        self.words = []\n",
    "        self.classes = []\n",
    "        self.documents = []\n",
    "        self.ignore_words = ['?']\n",
    "\n",
    "\n",
    "    def parse_intents_doc(self):     \n",
    "        # loop through each sentence in our intents patterns\n",
    "        for intent in self.intents['intents']:\n",
    "            for pattern in intent['patterns']:\n",
    "                # tokenize each word in the sentence\n",
    "                w = nltk.word_tokenize(pattern)\n",
    "                # add to our words list\n",
    "                self.words.extend(w)\n",
    "                # add to documents in our corpus\n",
    "                self.documents.append((w, intent['tag']))\n",
    "                # add to our classes list\n",
    "                if intent['tag'] not in self.classes:\n",
    "                    self.classes.append(intent['tag'])\n",
    "\n",
    "        # stem and lower each word and remove duplicates\n",
    "        self.words = [stemmer.stem(w.lower()) for w in self.words if w not in self.ignore_words]\n",
    "        self.words = sorted(list(set(self.words)))\n",
    "        # remove duplicates\n",
    "        self.classes = sorted(list(set(self.classes)))\n",
    "\n",
    "    def build_training_data(self):\n",
    "        # create our training data\n",
    "        training = []\n",
    "        output = []\n",
    "        # create an empty array for our output\n",
    "        output_empty = [0] * len(self.classes)\n",
    "\n",
    "        # training set, bag of words for each sentence\n",
    "        for doc in self.documents:\n",
    "            # initialize our bag of words\n",
    "            bag = []\n",
    "            # list of tokenized words for the pattern\n",
    "            pattern_words = doc[0]\n",
    "            # stem each word\n",
    "            pattern_words = [stemmer.stem(word.lower()) for word in pattern_words]\n",
    "            # create our bag of words array\n",
    "            for w in self.words:\n",
    "                if w in pattern_words:\n",
    "                    bag.append(1)\n",
    "                else:\n",
    "                    bag.append(0)\n",
    "\n",
    "            # output is a '0' for each tag and '1' for current tag\n",
    "            output_row = list(output_empty)\n",
    "            output_row[self.classes.index(doc[1])] = 1\n",
    "\n",
    "            training.append([bag, output_row])\n",
    "\n",
    "        # shuffle our features and turn into np.array\n",
    "        random.shuffle(training)\n",
    "        training = np.array(training)\n",
    "\n",
    "        # create train and test lists\n",
    "        train_x = list(training[:,0])\n",
    "        train_y = list(training[:,1])\n",
    "        return train_x, train_y\n",
    "\n",
    "    def train_neural_network(self, train_x, train_y):\n",
    "        # reset underlying graph data\n",
    "        tf.reset_default_graph()\n",
    "        # Build neural network\n",
    "        net = tflearn.input_data(shape=[None, len(train_x[0])])\n",
    "        net = tflearn.fully_connected(net, 8)\n",
    "        net = tflearn.fully_connected(net, 8)\n",
    "        net = tflearn.fully_connected(net, len(train_y[0]), activation='softmax')\n",
    "        net = tflearn.regression(net)\n",
    "\n",
    "        # Define model and setup tensorboard\n",
    "        model = tflearn.DNN(net, tensorboard_dir='tflearn_logs')\n",
    "        # Start training (apply gradient descent algorithm)\n",
    "        model.fit(train_x, train_y, n_epoch=1000, batch_size=8, show_metric=True)\n",
    "        model.save('model.tflearn')\n",
    "\n",
    "        return model"
   ]
  },
  {
   "cell_type": "markdown",
   "metadata": {},
   "source": [
    "## ChatBot uses the model and user inputs to return responses"
   ]
  },
  {
   "cell_type": "code",
   "execution_count": 90,
   "metadata": {
    "collapsed": false
   },
   "outputs": [],
   "source": [
    "class ChatBot(object):\n",
    "    ERROR_THRESHOLD = 0.25\n",
    "    \n",
    "    def __init__(self, model, words, classes, intents):\n",
    "        self.model = model\n",
    "        self.words = words\n",
    "        self.classes = classes\n",
    "        self.intents = intents\n",
    "        \n",
    "    def clean_up_sentence(self, sentence):\n",
    "        # tokenize the pattern\n",
    "        sentence_words = nltk.word_tokenize(sentence)\n",
    "        # stem each word\n",
    "        sentence_words = [stemmer.stem(word.lower()) for word in sentence_words]\n",
    "        return sentence_words\n",
    "\n",
    "    # return bag of words array: 0 or 1 for each word in the bag that exists in the sentence\n",
    "    def bow(self, sentence, words, show_details=False):\n",
    "        # tokenize the pattern\n",
    "        sentence_words = self.clean_up_sentence(sentence)\n",
    "        # bag of words\n",
    "        bag = [0] * len(self.words)  \n",
    "        for s in sentence_words:\n",
    "            for i, w in enumerate(self.words):\n",
    "                if w == s: \n",
    "                    bag[i] = 1\n",
    "                    if show_details:\n",
    "                        print (\"found in bag: %s\" % w)\n",
    "\n",
    "        return(np.array(bag))\n",
    "\n",
    "    def classify(self, sentence):\n",
    "        # generate probabilities from the model\n",
    "        results = self.model.predict([self.bow(sentence, self.words)])[0]\n",
    "        # filter out predictions below a threshold\n",
    "        results = [[i,r] for i, r in enumerate(results) if r > self.ERROR_THRESHOLD]\n",
    "        # sort by strength of probability\n",
    "        results.sort(key=lambda x: x[1], reverse=True)\n",
    "        return_list = []\n",
    "        for r in results:\n",
    "            return_list.append((self.classes[r[0]], r[1]))\n",
    "        # return tuple of intent and probability\n",
    "        print return_list\n",
    "        return return_list\n",
    "\n",
    "    def response(self, sentence, userID='123', show_details=False):\n",
    "        print sentence\n",
    "        results = self.classify(sentence)\n",
    "        # if we have a classification then find the matching intent tag\n",
    "        if results:\n",
    "            # loop as long as there are matches to process\n",
    "            while results:\n",
    "                for i in self.intents['intents']:\n",
    "                    # find a tag matching the first result\n",
    "                    if i['tag'] == results[0][0]:\n",
    "                        # a random response from the intent\n",
    "                        print(random.choice(i['responses']))\n",
    "                        return\n",
    "\n",
    "                results.pop(0)"
   ]
  },
  {
   "cell_type": "markdown",
   "metadata": {},
   "source": [
    "### Train the neural network on the seed data - intents.json"
   ]
  },
  {
   "cell_type": "code",
   "execution_count": 86,
   "metadata": {
    "collapsed": false
   },
   "outputs": [
    {
     "name": "stdout",
     "output_type": "stream",
     "text": [
      "Training Step: 3999  | total loss: \u001b[1m\u001b[32m0.18237\u001b[0m\u001b[0m | time: 0.007s\n",
      "| Adam | epoch: 1000 | loss: 0.18237 - acc: 0.9918 -- iter: 24/25\n",
      "Training Step: 4000  | total loss: \u001b[1m\u001b[32m0.16901\u001b[0m\u001b[0m | time: 0.009s\n",
      "| Adam | epoch: 1000 | loss: 0.16901 - acc: 0.9926 -- iter: 25/25\n",
      "--\n",
      "INFO:tensorflow:/Users/machinelearning/Documents/chatbot/model.tflearn is not in all_model_checkpoint_paths. Manually adding it.\n"
     ]
    }
   ],
   "source": [
    "model_builder = ModelBuilder('intents.json')\n",
    "model_builder.parse_intents_doc()\n",
    "train_x, train_y = model_builder.build_training_data()\n",
    "chatbot_model = model_builder.train_neural_network(train_x, train_y)"
   ]
  },
  {
   "cell_type": "markdown",
   "metadata": {},
   "source": [
    "### Fetch class variables for the ChatBot"
   ]
  },
  {
   "cell_type": "code",
   "execution_count": 87,
   "metadata": {
    "collapsed": true
   },
   "outputs": [],
   "source": [
    "words = model_builder.words\n",
    "classes = model_builder.classes\n",
    "intents = model_builder.intents"
   ]
  },
  {
   "cell_type": "code",
   "execution_count": 88,
   "metadata": {
    "collapsed": false
   },
   "outputs": [],
   "source": [
    "chat_bot = ChatBot(chatbot_model, words, classes, intents)"
   ]
  },
  {
   "cell_type": "markdown",
   "metadata": {},
   "source": [
    "### Test the chatbot here, start asking it questions"
   ]
  },
  {
   "cell_type": "code",
   "execution_count": 89,
   "metadata": {
    "collapsed": false
   },
   "outputs": [
    {
     "name": "stdout",
     "output_type": "stream",
     "text": [
      "how do I access CAT\n",
      "[(u'cat_access', 0.88718957)]\n",
      "Please visit mightdesk.mightyhive.com/company and click on the CAT button.\n"
     ]
    }
   ],
   "source": [
    "chat_bot.response('how do I access CAT')"
   ]
  },
  {
   "cell_type": "code",
   "execution_count": 67,
   "metadata": {
    "collapsed": false
   },
   "outputs": [
    {
     "name": "stdout",
     "output_type": "stream",
     "text": [
      "How do I access DBM\n",
      "[(u'dbm', 0.96289229)]\n",
      "Please refer to http://dbm.google.com to login\n"
     ]
    }
   ],
   "source": [
    "chat_bot.response(\"How do I access DBM\")"
   ]
  },
  {
   "cell_type": "code",
   "execution_count": 68,
   "metadata": {
    "collapsed": false
   },
   "outputs": [
    {
     "name": "stdout",
     "output_type": "stream",
     "text": [
      "Where can I access DBM?\n",
      "[(u'dbm', 0.95127767)]\n",
      "Please refer to http://dbm.google.com to login\n"
     ]
    }
   ],
   "source": [
    "chat_bot.response(\"Where can I access DBM?\")"
   ]
  },
  {
   "cell_type": "code",
   "execution_count": 70,
   "metadata": {
    "collapsed": false
   },
   "outputs": [
    {
     "name": "stdout",
     "output_type": "stream",
     "text": [
      "What is CAT?\n",
      "[(u'cat_faq', 0.98465967)]\n",
      "Cat is a first-party data uploader for targeting your CRM audiences in DBM.\n"
     ]
    }
   ],
   "source": [
    "chat_bot.response(\"What is CAT?\")"
   ]
  },
  {
   "cell_type": "code",
   "execution_count": 74,
   "metadata": {
    "collapsed": false
   },
   "outputs": [
    {
     "name": "stdout",
     "output_type": "stream",
     "text": [
      "What are the recommended creative dimensions?\n",
      "[(u'creative_dimensions', 0.99409759)]\n",
      "Please refer to this URL to review accepted creative sizes.\n"
     ]
    }
   ],
   "source": [
    "chat_bot.response(\"What are the recommended creative dimensions?\")"
   ]
  },
  {
   "cell_type": "code",
   "execution_count": null,
   "metadata": {
    "collapsed": true
   },
   "outputs": [],
   "source": []
  }
 ],
 "metadata": {
  "kernelspec": {
   "display_name": "Python 2",
   "language": "python",
   "name": "python2"
  },
  "language_info": {
   "codemirror_mode": {
    "name": "ipython",
    "version": 2
   },
   "file_extension": ".py",
   "mimetype": "text/x-python",
   "name": "python",
   "nbconvert_exporter": "python",
   "pygments_lexer": "ipython2",
   "version": "2.7.11"
  }
 },
 "nbformat": 4,
 "nbformat_minor": 0
}
